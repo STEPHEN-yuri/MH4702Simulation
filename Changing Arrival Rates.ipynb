{
 "cells": [
  {
   "cell_type": "code",
   "execution_count": 1,
   "id": "463ed51a",
   "metadata": {},
   "outputs": [],
   "source": [
    "import numpy as np\n",
    "import pandas as pd\n",
    "import matplotlib.pyplot as plt\n",
    "import decimal"
   ]
  },
  {
   "cell_type": "markdown",
   "id": "8c1b14dc",
   "metadata": {},
   "source": [
    "## Using same values for variables from K=2,"
   ]
  },
  {
   "cell_type": "code",
   "execution_count": 2,
   "id": "8c9f525e",
   "metadata": {},
   "outputs": [],
   "source": [
    "# service rate\n",
    "mu = 3\n",
    "\n",
    "# total time, that is the office our is from 8:00 am to 6:00 pm, and will not accept new customers half hour before the end\n",
    "T = 10\n",
    "# time for the change in influx\n",
    "t0 = 5\n",
    "\n",
    "# let's consider the case when a new gate is open at time s, i.e. there are two counter serving\n",
    "s = 6"
   ]
  },
  {
   "cell_type": "markdown",
   "id": "b7416ae7",
   "metadata": {},
   "source": [
    "## We now consider Waiting Time in Queue with respect to changes in both Arrival Rates"
   ]
  },
  {
   "cell_type": "code",
   "execution_count": 3,
   "id": "f2692717",
   "metadata": {},
   "outputs": [],
   "source": [
    "def float_range(start,stop,step):\n",
    "    while start<stop:\n",
    "        yield float(start)\n",
    "        start+= decimal.Decimal(step)"
   ]
  },
  {
   "cell_type": "code",
   "execution_count": 4,
   "id": "1b5ccbb3",
   "metadata": {},
   "outputs": [],
   "source": [
    "arrivalrate1=list(float_range(1,3,'0.5'))\n",
    "x_ar_1=[]\n",
    "y_ar_2=[]\n",
    "z_Wq=[]"
   ]
  },
  {
   "cell_type": "code",
   "execution_count": 5,
   "id": "ac5fbe91",
   "metadata": {},
   "outputs": [],
   "source": [
    "for i in arrivalrate1:\n",
    "    lambda1 = i\n",
    "    arrivalrate2=list(float_range(1,6,'0.5'))\n",
    "    for b in arrivalrate2:\n",
    "        lambda2 = b\n",
    "    \n",
    "        arrival_rate = np.array([lambda1,lambda2])\n",
    "    \n",
    "        # For a single iteration of simulation\n",
    "        arrival_time=np.zeros([50,1])\n",
    "        # assign value of arrival time\n",
    "        n=0\n",
    "        while arrival_time[n]<10:\n",
    "            if n==0:\n",
    "                arrival_time[0]=np.random.exponential(1/lambda1)\n",
    "                \n",
    "            if arrival_time[n]<t0:\n",
    "                arrival_time[n+1]+=arrival_time[n]+np.random.exponential(1/lambda1)\n",
    "            else:\n",
    "                arrival_time[n+1]+=arrival_time[n]+np.random.exponential(1/lambda2)\n",
    "            n+=1\n",
    "        \n",
    "        arrival_time=arrival_time[arrival_time>0][0:n,None]\n",
    "        \n",
    "        # service length\n",
    "        service_length=np.random.exponential(1/mu,[n,1])\n",
    "\n",
    "        # new service start and ending time with new gate introduced\n",
    "        service_star_s_time=np.zeros([n,1])\n",
    "        service_end_s_time=np.zeros([n,1])\n",
    "        for k in range(n):\n",
    "            if k==0:\n",
    "                service_star_s_time[k]=arrival_time[k]\n",
    "            else:\n",
    "                service_star_s_time[k]=max(arrival_time[k],service_end_s_time[k-1])\n",
    "            service_end_s_time[k]=service_star_s_time[k]+service_length[k]\n",
    "            if  service_end_s_time[k]>=s:\n",
    "                break\n",
    "        if k != len(service_star_s_time):         \n",
    "            service_star_s_time[k+1]=max(s,arrival_time[k+1])\n",
    "            service_end_s_time[k+1]=service_star_s_time[k+1]+service_length[k+1]\n",
    "            for j in range(k+2,n):\n",
    "                service_star_s_time[j]=max(arrival_time[j],min(service_end_s_time[j-1],service_end_s_time[j-2]))\n",
    "                service_end_s_time[j]=service_star_s_time[j]+service_length[j]\n",
    "        \n",
    "        # waiting time given the gate is opened at time s\n",
    "        waiting_s_time=service_star_s_time-arrival_time\n",
    "        total_service_s_time=waiting_s_time+service_length\n",
    "        Wq_s=np.sum(waiting_s_time)/len(waiting_s_time)\n",
    "        z_Wq.append(Wq_s)\n",
    "        x_ar_1.append(i)\n",
    "        y_ar_2.append(b)"
   ]
  },
  {
   "cell_type": "code",
   "execution_count": 6,
   "id": "172e467e",
   "metadata": {},
   "outputs": [
    {
     "data": {
      "text/plain": [
       "<mpl_toolkits.mplot3d.art3d.Poly3DCollection at 0x2270dd9cc40>"
      ]
     },
     "execution_count": 6,
     "metadata": {},
     "output_type": "execute_result"
    },
    {
     "data": {
      "image/png": "[encoded data removed]",
      "text/plain": [
       "<Figure size 432x288 with 1 Axes>"
      ]
     },
     "metadata": {
      "needs_background": "light"
     },
     "output_type": "display_data"
    }
   ],
   "source": [
    "x = np.array(x_ar_1)\n",
    "y = np.array(y_ar_2)\n",
    "z = np.array(z_Wq)\n",
    "ax=plt.axes(projection='3d')\n",
    "ax.set_xlabel('lambda1')\n",
    "ax.set_ylabel('lambda2')\n",
    "ax.set_zlabel('Wq')\n",
    "\n",
    "ax.plot_trisurf(x,y,z,linewidth=0, antialiased=False)"
   ]
  }
 ],
 "metadata": {
  "kernelspec": {
   "display_name": "Python 3",
   "language": "python",
   "name": "python3"
  },
  "language_info": {
   "codemirror_mode": {
    "name": "ipython",
    "version": 3
   },
   "file_extension": ".py",
   "mimetype": "text/x-python",
   "name": "python",
   "nbconvert_exporter": "python",
   "pygments_lexer": "ipython3",
   "version": "3.8.8"
  }
 },
 "nbformat": 4,
 "nbformat_minor": 5
}
