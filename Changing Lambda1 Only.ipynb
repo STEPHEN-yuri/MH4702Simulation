{
 "cells": [
  {
   "cell_type": "code",
   "execution_count": 1,
   "id": "8b8b1d9a",
   "metadata": {},
   "outputs": [],
   "source": [
    "import numpy as np\n",
    "import pandas as pd\n",
    "import matplotlib.pyplot as plt\n",
    "import decimal"
   ]
  },
  {
   "cell_type": "markdown",
   "id": "e08cc849",
   "metadata": {},
   "source": [
    "## Using same values for variables from K=2,"
   ]
  },
  {
   "cell_type": "code",
   "execution_count": 2,
   "id": "ae8abb63",
   "metadata": {},
   "outputs": [],
   "source": [
    "# service rate\n",
    "mu = 3\n",
    "\n",
    "# total time, that is the office our is from 8:00 am to 6:00 pm, and will not accept new customers half hour before the end\n",
    "T = 10\n",
    "# time for the change in influx\n",
    "t0 = 5\n",
    "\n",
    "# let's consider the case when a new gate is open at time s, i.e. there are two counter serving\n",
    "s = 6"
   ]
  },
  {
   "cell_type": "markdown",
   "id": "849a8076",
   "metadata": {},
   "source": [
    "## We now consider Waiting Time in Queue with respect to change in Lambda1"
   ]
  },
  {
   "cell_type": "code",
   "execution_count": 3,
   "id": "c18f6dac",
   "metadata": {},
   "outputs": [],
   "source": [
    "def float_range(start,stop,step):\n",
    "    while start<stop:\n",
    "        yield float(start)\n",
    "        start+= decimal.Decimal(step)"
   ]
  },
  {
   "cell_type": "code",
   "execution_count": 4,
   "id": "2a9e9f79",
   "metadata": {},
   "outputs": [],
   "source": [
    "arrivalrate1=list(float_range(1,3,'0.2'))\n",
    "Wq_sr=[]\n",
    "Wq_s1_sr=[]"
   ]
  },
  {
   "cell_type": "code",
   "execution_count": 5,
   "id": "7375a580",
   "metadata": {},
   "outputs": [],
   "source": [
    "for i in arrivalrate1:\n",
    "    lambda1 = i\n",
    "    lambda2 = 4\n",
    "    arrival_rate = np.array([lambda1,lambda2])\n",
    "\n",
    "    # For a single iteration of simulation\n",
    "    arrival_time=np.zeros([50,1])\n",
    "    # assign value of arrival time\n",
    "    n=0\n",
    "    while arrival_time[n]<10:\n",
    "        if n==0:\n",
    "            arrival_time[0]=np.random.exponential(1/lambda1)\n",
    "            \n",
    "        if arrival_time[n]<t0:\n",
    "            arrival_time[n+1]+=arrival_time[n]+np.random.exponential(1/lambda1)\n",
    "        else:\n",
    "            arrival_time[n+1]+=arrival_time[n]+np.random.exponential(1/lambda2)\n",
    "        n+=1\n",
    "    \n",
    "    arrival_time=arrival_time[arrival_time>0][0:n,None]\n",
    "    \n",
    "    # service length\n",
    "    service_length=np.random.exponential(1/mu,[n,1])\n",
    "    \n",
    "    # service starting time & service ending time\n",
    "    # let's start with only one gate\n",
    "    service_star_time=np.zeros([n,1])\n",
    "    service_end_time=np.zeros([n,1])\n",
    "    for k in range(n):\n",
    "        if k==0:\n",
    "            service_star_time[k]=arrival_time[k]\n",
    "        else:\n",
    "            service_star_time[k]=max(arrival_time[k],service_end_time[k-1])\n",
    "        service_end_time[k]=service_star_time[k]+service_length[k]\n",
    "    \n",
    "    # new service start and ending time with new gate introduced\n",
    "    service_star_s_time=np.zeros([n,1])\n",
    "    service_end_s_time=np.zeros([n,1])\n",
    "    for k in range(n):\n",
    "        if k==0:\n",
    "            service_star_s_time[k]=arrival_time[k]\n",
    "        else:\n",
    "            service_star_s_time[k]=max(arrival_time[k],service_end_s_time[k-1])\n",
    "        service_end_s_time[k]=service_star_s_time[k]+service_length[k]\n",
    "        if  service_end_s_time[k]>=s:\n",
    "            break\n",
    "            \n",
    "    service_star_s_time[k+1]=max(s,arrival_time[k+1])\n",
    "    service_end_s_time[k+1]=service_star_s_time[k+1]+service_length[k+1]\n",
    "    for j in range(k+2,n):\n",
    "        service_star_s_time[j]=max(arrival_time[j],min(service_end_s_time[j-1],service_end_s_time[j-2]))\n",
    "        service_end_s_time[j]=service_star_s_time[j]+service_length[j]\n",
    "    \n",
    "    # waiting time given the gate is opened at time s\n",
    "    waiting_s_time=service_star_s_time-arrival_time\n",
    "    total_service_s_time=waiting_s_time+service_length\n",
    "    Wq_s=np.sum(waiting_s_time)/len(waiting_s_time)\n",
    "    Wq_s1_sr.append(Wq_s)\n",
    "    \n",
    "    waiting_time=service_star_time-arrival_time\n",
    "    Wq=np.sum(waiting_time)/len(waiting_time)\n",
    "    Wq_sr.append(Wq)"
   ]
  },
  {
   "cell_type": "code",
   "execution_count": 6,
   "id": "faaaf1a4",
   "metadata": {},
   "outputs": [
    {
     "data": {
      "image/png": "[encoded data removed]",
      "text/plain": [
       "<Figure size 432x288 with 1 Axes>"
      ]
     },
     "metadata": {
      "needs_background": "light"
     },
     "output_type": "display_data"
    }
   ],
   "source": [
    "plt.plot(arrivalrate1,Wq_sr,label='Wq with one gate throughout [0,T]')\n",
    "plt.plot(arrivalrate1,Wq_s1_sr,label='Wq with gate opened at s<T')\n",
    "plt.xlabel('Lambda1')\n",
    "plt.ylabel('Waiting Time in Queue')\n",
    "plt.title('Changing Lambda1 against Wq')\n",
    "plt.legend()\n",
    "plt.show()"
   ]
  }
 ],
 "metadata": {
  "kernelspec": {
   "display_name": "Python 3",
   "language": "python",
   "name": "python3"
  },
  "language_info": {
   "codemirror_mode": {
    "name": "ipython",
    "version": 3
   },
   "file_extension": ".py",
   "mimetype": "text/x-python",
   "name": "python",
   "nbconvert_exporter": "python",
   "pygments_lexer": "ipython3",
   "version": "3.8.8"
  }
 },
 "nbformat": 4,
 "nbformat_minor": 5
}
